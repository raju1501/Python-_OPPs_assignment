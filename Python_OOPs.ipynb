{
  "nbformat": 4,
  "nbformat_minor": 0,
  "metadata": {
    "colab": {
      "provenance": []
    },
    "kernelspec": {
      "name": "python3",
      "display_name": "Python 3"
    },
    "language_info": {
      "name": "python"
    }
  },
  "cells": [
    {
      "cell_type": "markdown",
      "source": [
        "# Python OOPs Questions"
      ],
      "metadata": {
        "id": "M-1DkVTAFfPk"
      }
    },
    {
      "cell_type": "markdown",
      "source": [
        "1. What is Object-Oriented Programming (OOP)?\n",
        "- OOPs is a concept or way of organizing code that uses objects and classes to represent real-world entities and behavior. In OOPs, object has attributes thing that has specific data and can perform certain actions using methods.\n",
        "- **OOPs Concepts in Python :**\n",
        "\n",
        " Class in Python\n",
        "\n",
        " Objects in Python\n",
        "\n",
        " Polymorphism in Python\n",
        "\n",
        " Encapsulation in Python\n",
        "\n",
        " Inheritance in Python\n",
        "\n",
        " Data Abstraction in Python"
      ],
      "metadata": {
        "id": "emC2QCKkGkDq"
      }
    },
    {
      "cell_type": "markdown",
      "source": [
        "2. What is a class in OOP?\n",
        "- In Object-Oriented Programming (OOP), a class is a blueprint or template for creating objects.\n",
        "\n",
        " It defines:\n",
        "\n",
        " Attributes (also called properties or fields) : the data stored in the object.\n",
        "\n",
        " Methods (also called functions) : the behaviors or actions the object can perform."
      ],
      "metadata": {
        "id": "OPYX3rz4Hl-P"
      }
    },
    {
      "cell_type": "markdown",
      "source": [
        "3. What is an object in OOP?\n",
        "- In Object-Oriented Programming (OOP), an object is an instance of a class.\n",
        "\n",
        " It represents a real-world entity with:\n",
        "\n",
        " State — stored in attributes (data).\n",
        "\n",
        " Behavior — defined by methods (functions).\n",
        "\n",
        " Identity — its own unique reference in memory.\n",
        "\n",
        " Objects are created based on the structure defined by a class. Each object can have different values for its attributes but shares the same behavior (methods)."
      ],
      "metadata": {
        "id": "xllcpQVzIXHk"
      }
    },
    {
      "cell_type": "markdown",
      "source": [
        "4. What is the difference between abstraction and encapsulation?\n",
        "- **In abstraction :** they provide feature like ,Hiding complexity,overriding, security purpose and showing only the essential features.and which help to make the program easy to understand, maintain and secure.\n",
        "\n",
        " It allows you to expose only what an object does, not how it does it.\n",
        "\n",
        " Helps in managing complexity by reducing unnecessary details.\n",
        "\n",
        " Achieved through abstract classes, interfaces, or methods in many OOP languages.\n",
        "- **In encapsulation :** Restricting access to parts of an object to protect the internal state. and\n",
        "\n",
        " It bundles data and methods that operate on that data into a single unit (class).\n",
        "\n",
        " Uses access modifiers (like private, protected, and public) to control access.\n",
        "\n",
        " Prevents external interference and promotes maintainability.\n",
        "\n",
        "\n",
        "\n"
      ],
      "metadata": {
        "id": "xQEke4GtIrP9"
      }
    },
    {
      "cell_type": "markdown",
      "source": [
        "5. What are dunder methods in Python?\n",
        "- **Dunder methods in Python —** the methods starting and ending with double underscores ‘__’. and names that begin and end with two underscores (e.g., __init_ _ ,  _str _ , _len _). They are also known as magic methods. They are defined by built-in classes in Python and commonly used for operator overloading. and These methods allow you to define how your objects behave with built-in Python operations, such as printing, arithmetic, comparison, and more."
      ],
      "metadata": {
        "id": "rdr8yR4qLYPI"
      }
    },
    {
      "cell_type": "markdown",
      "source": [
        "6. Explain the concept of inheritance in OOP?\n",
        "- Inheritance in Object-Oriented Programming (OOP) is a mechanism that allows one class (called the child or subclass) to inherit attributes and methods from another class (called the parent or superclass).\n",
        "\n",
        "- This promotes code reusability, extensibility, and logical organization by allowing common behavior to be defined once and reused or extended."
      ],
      "metadata": {
        "id": "W98oM63DOQU5"
      }
    },
    {
      "cell_type": "markdown",
      "source": [
        "7. What is polymorphism in OOP?\n",
        "- Polymorphism in Object-Oriented Programming (OOP) refers to the ability of different objects to respond to the same method call in different ways.\n",
        "\n",
        "- The term literally means \"many forms.\"\n",
        "\n",
        "  allowing the same method name to be used for different actions depending on the object type.and  Polymorphism allows you to write code that interacts with objects of different types using a single, common interface or method name."
      ],
      "metadata": {
        "id": "FOj5KFvDOrkn"
      }
    },
    {
      "cell_type": "markdown",
      "source": [
        "8. How is encapsulation achieved in Python?\n",
        "- Encapsulation in Python is achieved by restricting direct access to some of an object's components—primarily its data (attributes)—and allowing access only through methods (functions).\n",
        "1. Use of Underscores for Access Control\n",
        "\n",
        " _name\tProtected: A convention indicating \"internal use only\" (not enforced).\n",
        "\n",
        " _name\tPrivate: Name mangling prevents direct access from outside the class."
      ],
      "metadata": {
        "id": "WfyGcJZZQYcs"
      }
    },
    {
      "cell_type": "markdown",
      "source": [
        "9. What is a constructor in Python?\n",
        "- A constructor in Python is a special method used to initialize objects when they are created from a class.\n",
        "\n",
        " In Python, the constructor method is It allocates memory and returns the new object. named  __ init__.\n",
        "\n"
      ],
      "metadata": {
        "id": "7ivFxMXeRGUg"
      }
    },
    {
      "cell_type": "markdown",
      "source": [
        "10. What are class and static methods in Python?\n",
        "- In Python, class methods and static methods are two special types of methods that differ from regular instance methods in how they access class and object data.\n",
        "1. Class Methods\n",
        "\n",
        "- Defined using the @classmethod decorator.\n",
        "\n",
        "- Take cls (the class itself) as the first parameter, not self.\n",
        "\n",
        "- Can access and modify class state that applies across all instances.\n",
        "2. Static Methods\n",
        "\n",
        "- Defined using the @staticmethod decorator.\n",
        "\n",
        "- Do not take self or cls as the first parameter.\n",
        "\n",
        "- Behave like regular functions, but reside inside the class for organizational purposes."
      ],
      "metadata": {
        "id": "nllaqJVQSCGO"
      }
    },
    {
      "cell_type": "markdown",
      "source": [
        "11. What is method overloading in Python?\n",
        "- Method overloading is a feature that allows a class to have multiple methods with the same name but different parameters (number, type, or both)."
      ],
      "metadata": {
        "id": "FpcnySdtS0cv"
      }
    },
    {
      "cell_type": "markdown",
      "source": [
        "12. What is method overriding in OOP?\n",
        "- Method overriding in Object-Oriented Programming (OOP) is the process where a subclass provides a specific implementation of a method that is already defined in its parent class.\n",
        "\n",
        "- This allows the subclass to customize or replace the inherited behavior, while keeping the same method name and signature.\n",
        "\n"
      ],
      "metadata": {
        "id": "73s7tln5TGk8"
      }
    },
    {
      "cell_type": "markdown",
      "source": [
        "13. What is a property decorator in Python?\n",
        "- The @property decorator in Python is used to define methods that behave like attributes. It allows to encapsulate instance variables and access them using attribute syntax, while still allowing for logic like validation or computation behind the scenes.\n"
      ],
      "metadata": {
        "id": "BpqGeWQ8TWEn"
      }
    },
    {
      "cell_type": "markdown",
      "source": [
        "14. Why is polymorphism important in OOP?\n",
        "- Polymorphism is important in Object-Oriented Programming (OOP) because it provides flexibility, scalability, and maintainability in code by allowing objects of different classes to be treated as if they are instances of the same class, typically through a shared interface or base class."
      ],
      "metadata": {
        "id": "gfY_gt4LT5l9"
      }
    },
    {
      "cell_type": "markdown",
      "source": [
        "15. What is an abstract class in Python?\n",
        "- An abstract class in Python is a class that cannot be instantiated directly and is meant to be inherited by other classes. It is used to define a common interface (i.e., a contract) for all its subclasses.\n",
        "\n",
        " **Abstract classes may contain:**\n",
        "\n",
        "- Abstract methods (declared but not implemented).\n",
        "\n",
        "- Concrete methods (with full implementation).\n",
        "\n",
        " Python provides abstract classes through the abc module (short for Abstract Base Classes)."
      ],
      "metadata": {
        "id": "DH8NerKsUBja"
      }
    },
    {
      "cell_type": "markdown",
      "source": [
        "16. What are the advantages of OOP?\n",
        "- Object-Oriented Programming (OOP) offers several key advantages that make software easier to build, maintain, and scale.\n",
        "1. Modularity\n",
        "\n",
        "- Code is organized into classes, each encapsulating data and behavior.\n",
        "2. Reusability\n",
        "\n",
        "- Classes can be reused across different programs or modules.\n",
        "\n",
        "- Inheritance allows new classes to reuse and extend existing functionality.\n",
        "3. Encapsulation\n",
        "\n",
        "- Internal object data is hidden from the outside world.\n",
        "\n",
        "4. Abstraction\n",
        "\n",
        "- Complex implementation details are hidden from the user.\n",
        "\n",
        "- Users interact with objects through a simple and clear interface.\n",
        "5. Polymorphism\n",
        "\n",
        "- The same method can behave differently depending on the object calling it.\n",
        "6. Inheritance\n",
        "\n",
        "- Promotes code reuse by allowing classes to inherit attributes and methods from parent classes.\n",
        "7. Scalability and Extensibility\n",
        "\n",
        "- OOP systems are easier to expand as new requirements emerge.\n",
        "\n",
        "- You can add new classes or methods with minimal disruption.\n",
        "\n",
        "\n",
        "\n"
      ],
      "metadata": {
        "id": "tK4V8tKJUhTH"
      }
    },
    {
      "cell_type": "markdown",
      "source": [
        "17. What is the difference between a class variable and an instance variable?\n",
        "\n",
        "- **1. Class Variable**\n",
        "\n",
        "- Shared by all instances of the class.\n",
        "\n",
        "- Defined inside the class, but outside any method.\n",
        "\n",
        "- Typically used for constants or properties that should be common to all objects.\n",
        "***2. Instance Variable**\n",
        "\n",
        "- Unique to each object (instance of the class).\n",
        "\n",
        "- Defined inside methods, usually in __init__, using self."
      ],
      "metadata": {
        "id": "wxChgaOmakT5"
      }
    },
    {
      "cell_type": "markdown",
      "source": [
        "18.  What is multiple inheritance in Python?\n",
        "- Multiple inheritance in Python is a feature that allows a class to inherit from more than one parent class. This means a child class can access attributes and methods from multiple base classes, combining their functionality."
      ],
      "metadata": {
        "id": "n5uWch5NbmL5"
      }
    },
    {
      "cell_type": "markdown",
      "source": [
        "19. Explain the purpose of ‘’__str__’ and ‘__repr__’ ‘ methods in Python.\n",
        "- In Python, the __str__ and __repr__ methods are both special methods used to define how an object is represented as a string, but they serve different purposes and are used in different situations.\n",
        "\n",
        " (1) _ str__ Method (String Representation)\n",
        "\n",
        "- The __str__ method is used to define a human-readable string representation of an object.\n",
        "\n",
        "- It is called by the str() function and by print statements, providing a user-friendly description of the object.\n",
        "\n",
        "- Purpose:\n",
        "To provide a readable, informal string representation of the object\n",
        "\n",
        " (2) _repr__ Method (Formal Representation)\n",
        "\n",
        "- The __repr__ method is used to define a formal string representation of an object.\n",
        "\n",
        "- The goal of __repr__ is to return a string that, when passed to the eval() function, could ideally recreate the object (though that's not always the case).\n",
        "\n",
        "- it is meant for developers and is more detailed than __str__.\n",
        "\n",
        "- Purpose:\n",
        "To provide an official, unambiguous string representation of the object, mainly for debugging and logging purposes."
      ],
      "metadata": {
        "id": "wm51M6eLb0ET"
      }
    },
    {
      "cell_type": "markdown",
      "source": [
        "20. What is the significance of the ‘super()’ function in Python?\n",
        "- The super() function in Python is used to call methods from a parent (or superclass) in the context of inheritance. It allows a subclass to call and access the methods and attributes of its parent class, without explicitly naming the parent class."
      ],
      "metadata": {
        "id": "4y9ey2yqdKOX"
      }
    },
    {
      "cell_type": "markdown",
      "source": [
        "21. What is the significance of the __del__ method in Python?\n",
        "- The __del__ method in Python is a destructor method, which is called when an object is about to be destroyed or garbage collected. It allows for the cleanup of resources, such as closing files, releasing network connections, or freeing up memory before the object is removed from memory."
      ],
      "metadata": {
        "id": "1LHY1YTFdjx5"
      }
    },
    {
      "cell_type": "markdown",
      "source": [
        "22. What is the difference between @staticmethod and @classmethod in Python?\n",
        "- **1. @staticmethod :** A static method doesn't take a reference to the instance (self) or the class (cls). It behaves like a regular function but belongs to the class's namespace.\n",
        "- Usage: It is typically used for utility functions that are related to the class but don't require access to the class or instance attributes.\n",
        "- **2. @classmethod :** A class method takes a reference to the class (cls) as its first argument, rather than the instance (self). It can access class-level attributes or modify the class itself, but not instance-specific data.\n",
        "- Usage: It is typically used when you need to access or modify the class-level data or call other class methods, but not the instance data."
      ],
      "metadata": {
        "id": "x3pPIhWmduKP"
      }
    },
    {
      "cell_type": "markdown",
      "source": [
        "23. How does polymorphism work in Python with inheritance?\n",
        "- Polymorphism allows methods to have the same name but behave differently based on the class of the object calling them. With inheritance, a child class can override methods of the parent class, giving it a specific implementation, while still adhering to the parent class's interface.\n"
      ],
      "metadata": {
        "id": "ph0JKY9seoej"
      }
    },
    {
      "cell_type": "code",
      "execution_count": 1,
      "metadata": {
        "colab": {
          "base_uri": "https://localhost:8080/"
        },
        "id": "R3ETSTwqEbC5",
        "outputId": "a5f7b345-958d-4d6d-c166-5ab1fdf17591"
      },
      "outputs": [
        {
          "output_type": "stream",
          "name": "stdout",
          "text": [
            "Woof! Woof!\n",
            "Meow!\n",
            "Some generic animal sound\n"
          ]
        }
      ],
      "source": [
        "class Animal:\n",
        "    def speak(self):\n",
        "        return \"Some generic animal sound\"\n",
        "\n",
        "class Dog(Animal):\n",
        "    def speak(self):\n",
        "        return \"Woof! Woof!\"\n",
        "\n",
        "class Cat(Animal):\n",
        "    def speak(self):\n",
        "        return \"Meow!\"\n",
        "\n",
        "# Polymorphism in action\n",
        "animals = [Dog(), Cat(), Animal()]\n",
        "\n",
        "for animal in animals:\n",
        "    print(animal.speak())\n"
      ]
    },
    {
      "cell_type": "markdown",
      "source": [
        "24.  What is method chaining in Python OOP?\n",
        "- Method chaining in Python (or in Object-Oriented Programming in general) refers to the technique of calling multiple methods sequentially on the same object, one after another, in a single statement. This is possible when each method in the chain returns the object itself (or a modified version of it), allowing to continue calling methods on that object."
      ],
      "metadata": {
        "id": "FM43Wdl8fTi9"
      }
    },
    {
      "cell_type": "markdown",
      "source": [
        "25. What is the purpose of the __call__ method in Python?\n",
        "- The __call__ method in Python is a special method that allows an instance of a class to be called as if it were a function.\n",
        "\n",
        "- **Purpose of __call__ Method:**\n",
        "\n",
        "- Making Objects Callable: It allows instances of a class to be called like functions.\n",
        "\n",
        "- Customization: You can customize the behavior of an object when it is called, providing functionality similar to functions but with object-oriented features (such as maintaining state)."
      ],
      "metadata": {
        "id": "k9hoxypwfk_c"
      }
    },
    {
      "cell_type": "markdown",
      "source": [
        "# Practical Questions"
      ],
      "metadata": {
        "id": "7HrehO9jgW7V"
      }
    },
    {
      "cell_type": "code",
      "source": [
        "# 1. Create a parent class Animal with a method speak() that prints a generic message. Create a child class Dog that overrides the speak() method to print \"Bark!\".\n",
        "\n",
        "class Animal:\n",
        "    def speak(self):\n",
        "        print(\"The animal makes a sound.\")\n",
        "\n",
        "class Dog(Animal):\n",
        "    def speak(self):\n",
        "        print(\"Bark!\")\n",
        "\n",
        "# Example usage\n",
        "generic_animal = Animal()\n",
        "generic_animal.speak()\n",
        "\n",
        "dog = Dog()\n",
        "dog.speak()\n"
      ],
      "metadata": {
        "colab": {
          "base_uri": "https://localhost:8080/"
        },
        "id": "vAxfGCwsgaYC",
        "outputId": "6bb79388-371a-427b-8437-7510c559289b"
      },
      "execution_count": 2,
      "outputs": [
        {
          "output_type": "stream",
          "name": "stdout",
          "text": [
            "The animal makes a sound.\n",
            "Bark!\n"
          ]
        }
      ]
    },
    {
      "cell_type": "markdown",
      "source": [
        "2. Write a program to create an abstract class Shape with a method area(). Derive classes Circle and Rectangle\n",
        "from it and implement the area() method in both."
      ],
      "metadata": {
        "id": "_FhYO22yhOsA"
      }
    },
    {
      "cell_type": "code",
      "source": [
        "from abc import ABC, abstractmethod\n",
        "import math\n",
        "\n",
        "# Abstract class\n",
        "class Shape(ABC):\n",
        "    @abstractmethod\n",
        "    def area(self):\n",
        "        pass\n",
        "\n",
        "# Derived class: Circle\n",
        "class Circle(Shape):\n",
        "    def __init__(self, radius):\n",
        "        self.radius = radius\n",
        "\n",
        "    def area(self):\n",
        "        return math.pi * self.radius ** 2\n",
        "\n",
        "# Derived class: Rectangle\n",
        "class Rectangle(Shape):\n",
        "    def __init__(self, width, height):\n",
        "        self.width = width\n",
        "        self.height = height\n",
        "\n",
        "    def area(self):\n",
        "        return self.width * self.height\n",
        "\n",
        "# Example usage\n",
        "circle = Circle(5)\n",
        "print(f\"Area of circle: {circle.area():.2f}\")\n",
        "\n",
        "rectangle = Rectangle(4, 6)\n",
        "print(f\"Area of rectangle: {rectangle.area()}\")"
      ],
      "metadata": {
        "colab": {
          "base_uri": "https://localhost:8080/"
        },
        "id": "PsiBxuwzhEty",
        "outputId": "b09dc957-f2c5-4c43-a5ba-032c7727c816"
      },
      "execution_count": 4,
      "outputs": [
        {
          "output_type": "stream",
          "name": "stdout",
          "text": [
            "Area of circle: 78.54\n",
            "Area of rectangle: 24\n"
          ]
        }
      ]
    },
    {
      "cell_type": "markdown",
      "source": [
        "3.  Implement a multi-level inheritance scenario where a class Vehicle has an attribute type. Derive a class Car\n",
        "and further derive a class ElectricCar that adds a battery attribute."
      ],
      "metadata": {
        "id": "DW-wTT_-iB5O"
      }
    },
    {
      "cell_type": "code",
      "source": [
        "# Base class\n",
        "class Vehicle:\n",
        "    def __init__(self, vehicle_type):\n",
        "        self.type = vehicle_type\n",
        "\n",
        "    def display_info(self):\n",
        "        print(f\"Vehicle Type: {self.type}\")\n",
        "\n",
        "# Derived class\n",
        "class Car(Vehicle):\n",
        "    def __init__(self, vehicle_type, brand):\n",
        "        super().__init__(vehicle_type)\n",
        "        self.brand = brand\n",
        "\n",
        "    def display_info(self):\n",
        "        super().display_info()\n",
        "        print(f\"Car Brand: {self.brand}\")\n",
        "\n",
        "# Further derived class\n",
        "class ElectricCar(Car):\n",
        "    def __init__(self, vehicle_type, brand, battery_capacity):\n",
        "        super().__init__(vehicle_type, brand)\n",
        "        self.battery = battery_capacity\n",
        "\n",
        "    def display_info(self):\n",
        "        super().display_info()\n",
        "        print(f\"Battery Capacity: {self.battery} kWh\")\n",
        "\n",
        "# Example usage\n",
        "ecar = ElectricCar(\"Four Wheeler\", \"TataNexon_Ev\", 80)\n",
        "ecar.display_info()\n"
      ],
      "metadata": {
        "colab": {
          "base_uri": "https://localhost:8080/"
        },
        "id": "xcihrk8qiINl",
        "outputId": "1b05fc85-87f3-4617-d414-36c87bc3db1e"
      },
      "execution_count": 5,
      "outputs": [
        {
          "output_type": "stream",
          "name": "stdout",
          "text": [
            "Vehicle Type: Four Wheeler\n",
            "Car Brand: TataNexon_Ev\n",
            "Battery Capacity: 80 kWh\n"
          ]
        }
      ]
    },
    {
      "cell_type": "markdown",
      "source": [
        "4.  Demonstrate polymorphism by creating a base class Bird with a method fly(). Create two derived classes\n",
        "Sparrow and Penguin that override the fly() method.\n"
      ],
      "metadata": {
        "id": "5E3qwFuGi8SB"
      }
    },
    {
      "cell_type": "code",
      "source": [
        "# Base class\n",
        "class Bird:\n",
        "    def fly(self):\n",
        "        print(\"Bird is flying...\")\n",
        "\n",
        "# Derived class\n",
        "class Sparrow(Bird):\n",
        "    def fly(self):\n",
        "        print(\"Sparrow flies high in the sky!\")\n",
        "\n",
        "# Derived class\n",
        "class Penguin(Bird):\n",
        "    def fly(self):\n",
        "        print(\"Penguins can't fly, but they swim really well!\")\n",
        "\n",
        "# Polymorphic function\n",
        "def bird_flight(bird):\n",
        "    bird.fly()\n",
        "\n",
        "# Example usage\n",
        "bird_list = [Sparrow(), Penguin()]\n",
        "\n",
        "for bird in bird_list:\n",
        "    bird_flight(bird)\n"
      ],
      "metadata": {
        "colab": {
          "base_uri": "https://localhost:8080/"
        },
        "id": "qTGAFtZLjJTl",
        "outputId": "84b4e9a2-d7d5-4700-8d41-dc533fdbe0f5"
      },
      "execution_count": 6,
      "outputs": [
        {
          "output_type": "stream",
          "name": "stdout",
          "text": [
            "Sparrow flies high in the sky!\n",
            "Penguins can't fly, but they swim really well!\n"
          ]
        }
      ]
    },
    {
      "cell_type": "markdown",
      "source": [
        "5.  Write a program to demonstrate encapsulation by creating a class BankAccount with private attributes\n",
        "balance and methods to deposit, withdraw, and check balance."
      ],
      "metadata": {
        "id": "L4wI0QRFjLWe"
      }
    },
    {
      "cell_type": "code",
      "source": [
        "class BankAccount:\n",
        "    def __init__(self, initial_balance=0):\n",
        "        self.__balance = initial_balance  # private attribute\n",
        "\n",
        "    # Method to deposit money\n",
        "    def deposit(self, amount):\n",
        "        if amount > 0:\n",
        "            self.__balance += amount\n",
        "            print(f\"Deposited: ${amount}\")\n",
        "        else:\n",
        "            print(\"Invalid deposit amount.\")\n",
        "\n",
        "    # Method to withdraw money\n",
        "    def withdraw(self, amount):\n",
        "        if 0 < amount <= self.__balance:\n",
        "            self.__balance -= amount\n",
        "            print(f\"Withdrew: ${amount}\")\n",
        "        else:\n",
        "            print(\"Insufficient balance or invalid amount.\")\n",
        "\n",
        "    # Method to check balance\n",
        "    def check_balance(self):\n",
        "        print(f\"Current Balance: ${self.__balance}\")\n",
        "\n",
        "# Example usage\n",
        "account = BankAccount(100)\n",
        "account.check_balance()\n",
        "account.deposit(50)\n",
        "account.withdraw(30)\n",
        "account.check_balance()\n"
      ],
      "metadata": {
        "colab": {
          "base_uri": "https://localhost:8080/"
        },
        "id": "3NUIHqLdjfMn",
        "outputId": "7ee4981f-c5b5-4bf8-d28c-568f5a6c317f"
      },
      "execution_count": 7,
      "outputs": [
        {
          "output_type": "stream",
          "name": "stdout",
          "text": [
            "Current Balance: $100\n",
            "Deposited: $50\n",
            "Withdrew: $30\n",
            "Current Balance: $120\n"
          ]
        }
      ]
    },
    {
      "cell_type": "markdown",
      "source": [
        "6. Demonstrate runtime polymorphism using a method play() in a base class Instrument. Derive classes Guitar\n",
        "and Piano that implement their own version of play()."
      ],
      "metadata": {
        "id": "KZewu5o3jvOd"
      }
    },
    {
      "cell_type": "code",
      "source": [
        "# Base class\n",
        "class Instrument:\n",
        "    def play(self):\n",
        "        print(\"Playing an instrument...\")\n",
        "\n",
        "# Derived class\n",
        "class Guitar(Instrument):\n",
        "    def play(self):\n",
        "        print(\"Strumming the guitar!\")\n",
        "\n",
        "# Derived class\n",
        "class Piano(Instrument):\n",
        "    def play(self):\n",
        "        print(\"Playing the piano!\")\n",
        "\n",
        "# Polymorphic function\n",
        "def perform_music(instrument):\n",
        "    instrument.play()\n",
        "\n",
        "# Example usage\n",
        "instruments = [Guitar(), Piano()]\n",
        "\n",
        "for inst in instruments:\n",
        "    perform_music(inst)\n"
      ],
      "metadata": {
        "colab": {
          "base_uri": "https://localhost:8080/"
        },
        "id": "m3CCyuobjxJ5",
        "outputId": "b23b9308-2eb9-495a-d75c-615b2622136e"
      },
      "execution_count": 8,
      "outputs": [
        {
          "output_type": "stream",
          "name": "stdout",
          "text": [
            "Strumming the guitar!\n",
            "Playing the piano!\n"
          ]
        }
      ]
    },
    {
      "cell_type": "markdown",
      "source": [
        "7. Create a class MathOperations with a class method add_numbers() to add two numbers and a static\n",
        "method subtract_numbers() to subtract two numbers."
      ],
      "metadata": {
        "id": "pEkIA81ykAjQ"
      }
    },
    {
      "cell_type": "code",
      "source": [
        "class MathOperations:\n",
        "    @classmethod\n",
        "    def add_numbers(cls, a, b):\n",
        "        return a + b\n",
        "\n",
        "    @staticmethod\n",
        "    def subtract_numbers(a, b):\n",
        "        return a - b\n",
        "\n",
        "# Example usage\n",
        "sum_result = MathOperations.add_numbers(10, 5)\n",
        "print(f\"Sum: {sum_result}\")  # Output: Sum: 15\n",
        "\n",
        "diff_result = MathOperations.subtract_numbers(10, 5)\n",
        "print(f\"Difference: {diff_result}\")  # Output: Difference: 5\n"
      ],
      "metadata": {
        "colab": {
          "base_uri": "https://localhost:8080/"
        },
        "id": "jPD6pfIJkDWx",
        "outputId": "0825d5e7-f3b2-434e-c515-fd68e21826ca"
      },
      "execution_count": 9,
      "outputs": [
        {
          "output_type": "stream",
          "name": "stdout",
          "text": [
            "Sum: 15\n",
            "Difference: 5\n"
          ]
        }
      ]
    },
    {
      "cell_type": "markdown",
      "source": [
        "8.  Implement a class Person with a class method to count the total number of persons created."
      ],
      "metadata": {
        "id": "_LWfvJFskJ2z"
      }
    },
    {
      "cell_type": "code",
      "source": [
        "class Person:\n",
        "    _count = 0  # Class variable to track number of persons\n",
        "\n",
        "    def __init__(self, name):\n",
        "        self.name = name\n",
        "        Person._count += 1  # Increment count on each new instance\n",
        "\n",
        "    @classmethod\n",
        "    def total_persons(cls):\n",
        "        return cls._count\n",
        "\n",
        "# Example usage\n",
        "p1 = Person(\"Alice\")\n",
        "p2 = Person(\"Bob\")\n",
        "p3 = Person(\"Charlie\")\n",
        "\n",
        "print(f\"Total persons created: {Person.total_persons()}\")\n"
      ],
      "metadata": {
        "colab": {
          "base_uri": "https://localhost:8080/"
        },
        "id": "feUONVs8kPbm",
        "outputId": "08019d4f-0b03-42e9-fa71-c938713bb71c"
      },
      "execution_count": 10,
      "outputs": [
        {
          "output_type": "stream",
          "name": "stdout",
          "text": [
            "Total persons created: 3\n"
          ]
        }
      ]
    },
    {
      "cell_type": "markdown",
      "source": [
        "9. Write a class Fraction with attributes numerator and denominator. Override the str method to display the\n",
        "fraction as \"numerator/denominator\"."
      ],
      "metadata": {
        "id": "HABQIsWykVRD"
      }
    },
    {
      "cell_type": "code",
      "source": [
        "class Fraction:\n",
        "    def __init__(self, numerator, denominator):\n",
        "        self.numerator = numerator\n",
        "        if denominator == 0:\n",
        "            raise ValueError(\"Denominator cannot be zero.\")\n",
        "        self.denominator = denominator\n",
        "\n",
        "    def __str__(self):\n",
        "        return f\"{self.numerator}/{self.denominator}\"\n",
        "\n",
        "# Example usage\n",
        "f1 = Fraction(3, 4)\n",
        "print(f1)\n",
        "\n",
        "f2 = Fraction(5, 1)\n",
        "print(f2)\n"
      ],
      "metadata": {
        "colab": {
          "base_uri": "https://localhost:8080/"
        },
        "id": "JeISjggykZL5",
        "outputId": "ca8869b8-b5d9-4005-b8d6-fc09bc476ff5"
      },
      "execution_count": 11,
      "outputs": [
        {
          "output_type": "stream",
          "name": "stdout",
          "text": [
            "3/4\n",
            "5/1\n"
          ]
        }
      ]
    },
    {
      "cell_type": "markdown",
      "source": [
        "10. Demonstrate operator overloading by creating a class Vector and overriding the add method to add two\n",
        "vectors."
      ],
      "metadata": {
        "id": "1EiLAABdkiMC"
      }
    },
    {
      "cell_type": "code",
      "source": [
        "class Vector:\n",
        "    def __init__(self, x, y):\n",
        "        self.x = x\n",
        "        self.y = y\n",
        "\n",
        "    # Overload the + operator\n",
        "    def __add__(self, other):\n",
        "        if isinstance(other, Vector):\n",
        "            return Vector(self.x + other.x, self.y + other.y)\n",
        "        return NotImplemented\n",
        "\n",
        "    def __str__(self):\n",
        "        return f\"({self.x}, {self.y})\"\n",
        "\n",
        "# Example usage\n",
        "v1 = Vector(2, 3)\n",
        "v2 = Vector(4, 5)\n",
        "v3 = v1 + v2  # Uses __add__\n",
        "\n",
        "print(f\"v1: {v1}\")\n",
        "print(f\"v2: {v2}\")\n",
        "print(f\"v1 + v2 = {v3}\")\n"
      ],
      "metadata": {
        "colab": {
          "base_uri": "https://localhost:8080/"
        },
        "id": "-Oi7z5arkoLb",
        "outputId": "557cbe7e-e8f9-438b-deae-6a805b628566"
      },
      "execution_count": 19,
      "outputs": [
        {
          "output_type": "stream",
          "name": "stdout",
          "text": [
            "v1: (2, 3)\n",
            "v2: (4, 5)\n",
            "v1 + v2 = (6, 8)\n"
          ]
        }
      ]
    },
    {
      "cell_type": "markdown",
      "source": [
        "11. Create a class Person with attributes name and age. Add a method greet() that prints \"Hello, my name is\n",
        "{name} and I am {age} years old.\""
      ],
      "metadata": {
        "id": "fwYtef_Ckutr"
      }
    },
    {
      "cell_type": "code",
      "source": [
        "class Person:\n",
        "    def __init__(self, name, age):\n",
        "        self.name = name\n",
        "        self.age = age\n",
        "\n",
        "    def greet(self):\n",
        "        print(f\"Hello, my name is {self.name} and I am {self.age} years old.\")\n",
        "\n",
        "# Example usage\n",
        "person1 = Person(\"Alice\", 30)\n",
        "person1.greet()\n",
        "\n",
        "person2 = Person(\"Bob\", 25)\n",
        "person2.greet()\n"
      ],
      "metadata": {
        "colab": {
          "base_uri": "https://localhost:8080/"
        },
        "id": "Z_7k3NT6kzGc",
        "outputId": "4bbe342b-aee6-4aa7-cdc7-e5239b0d5f29"
      },
      "execution_count": 20,
      "outputs": [
        {
          "output_type": "stream",
          "name": "stdout",
          "text": [
            "Hello, my name is Alice and I am 30 years old.\n",
            "Hello, my name is Bob and I am 25 years old.\n"
          ]
        }
      ]
    },
    {
      "cell_type": "markdown",
      "source": [
        "12. Implement a class Student with attributes name and grades. Create a method average_grade() to compute\n",
        "the average of the grades."
      ],
      "metadata": {
        "id": "2vcf0VS1k42X"
      }
    },
    {
      "cell_type": "code",
      "source": [
        "class Student:\n",
        "    def __init__(self, name, grades):\n",
        "        self.name = name\n",
        "        self.grades = grades\n",
        "\n",
        "    def average_grade(self):\n",
        "        if len(self.grades) == 0:\n",
        "            return 0  # Avoid division by zero if no grades are provided\n",
        "        return sum(self.grades) / len(self.grades)\n",
        "\n",
        "# Example usage\n",
        "student1 = Student(\"Alice\", [90, 85, 88, 92])\n",
        "print(f\"{student1.name}'s average grade: {student1.average_grade()}\")\n",
        "\n",
        "student2 = Student(\"Bob\", [75, 80, 70, 60])\n",
        "print(f\"{student2.name}'s average grade: {student2.average_grade()}\")\n"
      ],
      "metadata": {
        "colab": {
          "base_uri": "https://localhost:8080/"
        },
        "id": "kVMp7QY0lCJw",
        "outputId": "265d9831-8f6b-44a0-e577-db77073e8fe6"
      },
      "execution_count": 21,
      "outputs": [
        {
          "output_type": "stream",
          "name": "stdout",
          "text": [
            "Alice's average grade: 88.75\n",
            "Bob's average grade: 71.25\n"
          ]
        }
      ]
    },
    {
      "cell_type": "markdown",
      "source": [
        "13. Create a class Rectangle with methods set_dimensions() to set the dimensions and area() to calculate the\n",
        "area."
      ],
      "metadata": {
        "id": "JkF3-UHXlJs4"
      }
    },
    {
      "cell_type": "code",
      "source": [
        "class Rectangle:\n",
        "    def __init__(self):\n",
        "        self.length = 0\n",
        "        self.width = 0\n",
        "\n",
        "    def set_dimensions(self, length, width):\n",
        "        self.length = length\n",
        "        self.width = width\n",
        "\n",
        "    def area(self):\n",
        "        return self.length * self.width\n",
        "\n",
        "# Example usage\n",
        "rect = Rectangle()\n",
        "rect.set_dimensions(5, 3)\n",
        "print(f\"Area of rectangle: {rect.area()}\")\n"
      ],
      "metadata": {
        "colab": {
          "base_uri": "https://localhost:8080/"
        },
        "id": "AtVoqbCelNkg",
        "outputId": "60c04437-61e2-4ec2-b9a2-7cb862385b00"
      },
      "execution_count": 22,
      "outputs": [
        {
          "output_type": "stream",
          "name": "stdout",
          "text": [
            "Area of rectangle: 15\n"
          ]
        }
      ]
    },
    {
      "cell_type": "markdown",
      "source": [
        "14. Create a class Employee with a method calculate_salary() that computes the salary based on hours worked\n",
        "and hourly rate. Create a derived class Manager that adds a bonus to the salary"
      ],
      "metadata": {
        "id": "_YMyuobRlV_r"
      }
    },
    {
      "cell_type": "code",
      "source": [
        "class Employee:\n",
        "    def __init__(self, name, hours_worked, hourly_rate):\n",
        "        self.name = name\n",
        "        self.hours_worked = hours_worked\n",
        "        self.hourly_rate = hourly_rate\n",
        "\n",
        "    def calculate_salary(self):\n",
        "        return self.hours_worked * self.hourly_rate\n",
        "\n",
        "# Derived class: Manager\n",
        "class Manager(Employee):\n",
        "    def __init__(self, name, hours_worked, hourly_rate, bonus):\n",
        "        super().__init__(name, hours_worked, hourly_rate)\n",
        "        self.bonus = bonus\n",
        "\n",
        "    # Overriding calculate_salary() to include the bonus\n",
        "    def calculate_salary(self):\n",
        "        base_salary = super().calculate_salary()\n",
        "        return base_salary + self.bonus\n",
        "\n",
        "# Example usage\n",
        "employee = Employee(\"John Doe\", 40, 25)\n",
        "print(f\"Employee's salary: ${employee.calculate_salary()}\")\n",
        "\n",
        "manager = Manager(\"Alice Smith\", 40, 30, 500)\n",
        "print(f\"Manager's salary: ${manager.calculate_salary()}\")\n"
      ],
      "metadata": {
        "colab": {
          "base_uri": "https://localhost:8080/"
        },
        "id": "92q_Z80jlX49",
        "outputId": "ee015689-84ef-4c3a-9b3b-016eebce2ac4"
      },
      "execution_count": 23,
      "outputs": [
        {
          "output_type": "stream",
          "name": "stdout",
          "text": [
            "Employee's salary: $1000\n",
            "Manager's salary: $1700\n"
          ]
        }
      ]
    },
    {
      "cell_type": "markdown",
      "source": [
        "15. Create a class Product with attributes name, price, and quantity. Implement a method total_price() that\n",
        "calculates the total price of the product."
      ],
      "metadata": {
        "id": "xCFFczK9mBLl"
      }
    },
    {
      "cell_type": "code",
      "source": [
        "class Product:\n",
        "    def __init__(self, name, price, quantity):\n",
        "        self.name = name\n",
        "        self.price = price\n",
        "        self.quantity = quantity\n",
        "\n",
        "    def total_price(self):\n",
        "        return self.price * self.quantity\n",
        "\n",
        "# Example usage\n",
        "product1 = Product(\"Laptop\", 1000, 3)\n",
        "print(f\"Total price of {product1.name}: ${product1.total_price()}\")\n",
        "\n",
        "product2 = Product(\"Headphones\", 50, 5)\n",
        "print(f\"Total price of {product2.name}: ${product2.total_price()}\")\n"
      ],
      "metadata": {
        "colab": {
          "base_uri": "https://localhost:8080/"
        },
        "id": "c96Kgj49mGe4",
        "outputId": "cf108db1-7f74-4711-84dc-675b623f9b71"
      },
      "execution_count": 24,
      "outputs": [
        {
          "output_type": "stream",
          "name": "stdout",
          "text": [
            "Total price of Laptop: $3000\n",
            "Total price of Headphones: $250\n"
          ]
        }
      ]
    },
    {
      "cell_type": "markdown",
      "source": [
        "16.  Create a class Animal with an abstract method sound(). Create two derived classes Cow and Sheep that\n",
        "implement the sound() method."
      ],
      "metadata": {
        "id": "MK47C3g3mN79"
      }
    },
    {
      "cell_type": "code",
      "source": [
        "from abc import ABC, abstractmethod\n",
        "\n",
        "# Abstract class\n",
        "class Animal(ABC):\n",
        "    @abstractmethod\n",
        "    def sound(self):\n",
        "        pass\n",
        "\n",
        "# Derived class Cow\n",
        "class Cow(Animal):\n",
        "    def sound(self):\n",
        "        print(\"haaaah!\")\n",
        "\n",
        "# Derived class Sheep\n",
        "class Sheep(Animal):\n",
        "    def sound(self):\n",
        "        print(\"maaaa!\")\n",
        "\n",
        "# Example usage\n",
        "cow = Cow()\n",
        "cow.sound()\n",
        "\n",
        "sheep = Sheep()\n",
        "sheep.sound()\n"
      ],
      "metadata": {
        "colab": {
          "base_uri": "https://localhost:8080/"
        },
        "id": "cF9sxaZ4mTxv",
        "outputId": "6b898511-c0fe-47b1-afb7-30b80f161b79"
      },
      "execution_count": 26,
      "outputs": [
        {
          "output_type": "stream",
          "name": "stdout",
          "text": [
            "haaaah!\n",
            "maaaa!\n"
          ]
        }
      ]
    },
    {
      "cell_type": "markdown",
      "source": [
        "17. Create a class Book with attributes title, author, and year_published. Add a method get_book_info() that\n",
        "returns a formatted string with the book's details."
      ],
      "metadata": {
        "id": "N5Df378Emvpy"
      }
    },
    {
      "cell_type": "code",
      "source": [
        "class Book:\n",
        "    def __init__(self, title, author, year_published):\n",
        "        self.title = title\n",
        "        self.author = author\n",
        "        self.year_published = year_published\n",
        "\n",
        "    def get_book_info(self):\n",
        "        return f\"Title: {self.title}\\nAuthor: {self.author}\\nYear Published: {self.year_published}\"\n",
        "\n",
        "# Example usage\n",
        "book1 = Book(\"260\", \"Asoka tha greate\", 2025)\n",
        "print(book1.get_book_info())\n",
        "book2 = Book(\"Emperor magadh\", \"Chanakya\", 2025)\n",
        "print(book2.get_book_info())"
      ],
      "metadata": {
        "colab": {
          "base_uri": "https://localhost:8080/"
        },
        "id": "MKNQHirSmzfK",
        "outputId": "99926c2d-fbb9-481d-de1c-7a0f32bce593"
      },
      "execution_count": 28,
      "outputs": [
        {
          "output_type": "stream",
          "name": "stdout",
          "text": [
            "Title: 260\n",
            "Author: Asoka tha greate\n",
            "Year Published: 2025\n",
            "Title: Emperor magadh\n",
            "Author: Chanakya\n",
            "Year Published: 2025\n"
          ]
        }
      ]
    },
    {
      "cell_type": "markdown",
      "source": [
        "18. Create a class House with attributes address and price. Create a derived class Mansion that adds an\n",
        "attribute number_of_rooms."
      ],
      "metadata": {
        "id": "M8aUSoB7nqhm"
      }
    },
    {
      "cell_type": "code",
      "source": [
        "# Base class: House\n",
        "class House:\n",
        "    def __init__(self, address, price):\n",
        "        self.address = address\n",
        "        self.price = price\n",
        "\n",
        "    def get_house_info(self):\n",
        "        return f\"Address: {self.address}\\nPrice: ${self.price}\"\n",
        "\n",
        "# Derived class: Mansion\n",
        "class Mansion(House):\n",
        "    def __init__(self, address, price, number_of_rooms):\n",
        "        super().__init__(address, price)\n",
        "        self.number_of_rooms = number_of_rooms\n",
        "\n",
        "    def get_mansion_info(self):\n",
        "        return f\"{self.get_house_info()}\\nNumber of Rooms: {self.number_of_rooms}\"\n",
        "\n",
        "# Example usage\n",
        "house = House(\"120 Main St\", 25000)\n",
        "print(house.get_house_info())\n",
        "mansion = Mansion(\"400 Luxurious\", 500000, 10)\n",
        "print(mansion.get_mansion_info())\n"
      ],
      "metadata": {
        "colab": {
          "base_uri": "https://localhost:8080/"
        },
        "id": "ZhZNMRjcnzSU",
        "outputId": "249448d3-fa55-4fa5-95de-f2f93fdd95dc"
      },
      "execution_count": 30,
      "outputs": [
        {
          "output_type": "stream",
          "name": "stdout",
          "text": [
            "Address: 120 Main St\n",
            "Price: $25000\n",
            "Address: 400 Luxurious\n",
            "Price: $500000\n",
            "Number of Rooms: 10\n"
          ]
        }
      ]
    }
  ]
}